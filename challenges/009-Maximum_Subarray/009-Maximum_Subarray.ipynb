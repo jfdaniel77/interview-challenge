{
 "cells": [
  {
   "cell_type": "markdown",
   "metadata": {},
   "source": [
    "# Challenge 009 - Maximum Subarray\n",
    "This challenge is taken from LeetCode - 53. Maximum Subarray (https://leetcode.com/problems/maximum-subarray/).\n",
    "\n",
    "## Problem\n",
    "Given an integer array nums, find the contiguous subarray (containing at least one number) which has the largest sum and return its sum.\n",
    "\n",
    "Example 1:\n",
    "```\n",
    "Input: nums = [-2,1,-3,4,-1,2,1,-5,4]\n",
    "Output: 6\n",
    "Explanation: [4,-1,2,1] has the largest sum = 6.\n",
    "```\n",
    "\n",
    "Example 2:\n",
    "```\n",
    "Input: nums = [1]\n",
    "Output: 1\n",
    "```\n",
    "\n",
    "Example 3:\n",
    "```\n",
    "Input: nums = [5,4,-1,7,8]\n",
    "Output: 23\n",
    "```\n",
    "\n",
    "## Solution"
   ]
  },
  {
   "cell_type": "code",
   "execution_count": null,
   "metadata": {},
   "outputs": [],
   "source": [
    "class Solution(object):\n",
    "    def maxSubArray(self, nums):\n",
    "        \"\"\"\n",
    "        :type nums: List[int]\n",
    "        :rtype: int\n",
    "        \"\"\"\n",
    "        result =  0\n",
    "        max_result = nums[0];\n",
    "        \n",
    "        for item in nums:\n",
    "            result = result + item\n",
    "            \n",
    "            if max_result < result:\n",
    "                max_result = result\n",
    "                \n",
    "            if result < 0:\n",
    "                result = 0\n",
    "                \n",
    "        return max_result"
   ]
  }
 ],
 "metadata": {
  "kernelspec": {
   "display_name": "Python 3.8.3 32-bit",
   "language": "python",
   "name": "python38332bit19a78f05c6cb434680bc6f0964f662fa"
  },
  "language_info": {
   "codemirror_mode": {
    "name": "ipython",
    "version": 3
   },
   "file_extension": ".py",
   "mimetype": "text/x-python",
   "name": "python",
   "nbconvert_exporter": "python",
   "pygments_lexer": "ipython3",
   "version": "3.8.3"
  }
 },
 "nbformat": 4,
 "nbformat_minor": 4
}
