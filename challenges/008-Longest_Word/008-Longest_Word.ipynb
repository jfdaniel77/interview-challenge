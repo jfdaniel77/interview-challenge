{
 "cells": [
  {
   "cell_type": "markdown",
   "metadata": {},
   "source": [
    "# Challenge 008 - Longest Word\n",
    "This challenge is taken from CoderByte - Longest Word (https://coderbyte.com/information/Longest%20Word).\n",
    "\n",
    "## Problem\n",
    "\n",
    "Have the function LongestWord(sen) take the sen parameter being passed and return the longest word in the string. If there are two or more words that are the same length, return the first word from the string with that length. Ignore punctuation and assume sen will not be empty. Words may also contain numbers, for example \"Hello world123 567\"\n",
    "\n",
    "Examples\n",
    "\n",
    "```\n",
    "Input: \"fun&!! time\"\n",
    "Output: time\n",
    "```\n",
    "\n",
    "```\n",
    "Input: \"I love dogs\"\n",
    "Output: love\n",
    "```\n",
    "\n",
    "## Solution"
   ]
  },
  {
   "cell_type": "code",
   "execution_count": null,
   "metadata": {},
   "outputs": [],
   "source": [
    "import string\n",
    "\n",
    "def LongestWord(sen):\n",
    "    # split sen with delimiter ' '\n",
    "    words = sen.split(' ')\n",
    "\n",
    "    # remove punctuation inside word in words \n",
    "    for i in range(len(words)):\n",
    "        words[i] = words[i].strip(string.punctuation)\n",
    "\n",
    "    # find the longest word in words\n",
    "    longest = ''\n",
    "    for word in words:\n",
    "        if len(word) > len(longest):\n",
    "            longest = word\n",
    "\n",
    "    return longest\n",
    "\n",
    "# keep this function call here \n",
    "print(LongestWord(input()))"
   ]
  }
 ],
 "metadata": {
  "kernelspec": {
   "display_name": "Python 3.8.3 32-bit",
   "language": "python",
   "name": "python38332bit19a78f05c6cb434680bc6f0964f662fa"
  },
  "language_info": {
   "codemirror_mode": {
    "name": "ipython",
    "version": 3
   },
   "file_extension": ".py",
   "mimetype": "text/x-python",
   "name": "python",
   "nbconvert_exporter": "python",
   "pygments_lexer": "ipython3",
   "version": "3.8.3"
  }
 },
 "nbformat": 4,
 "nbformat_minor": 4
}
