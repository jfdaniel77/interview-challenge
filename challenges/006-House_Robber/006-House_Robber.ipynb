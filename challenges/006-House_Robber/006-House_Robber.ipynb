{
 "cells": [
  {
   "cell_type": "markdown",
   "metadata": {},
   "source": [
    "# Challenge 006 - House Robber\n",
    "\n",
    "This challenge is taken from LeetCode - 198. House Robber (https://leetcode.com/problems/house-robber/).\n",
    "\n",
    "## Problem\n",
    "You are a professional robber planning to rob houses along a street. Each house has a certain amount of money stashed, the only constraint stopping you from robbing each of them is that adjacent houses have security systems connected and it will automatically contact the police if two adjacent houses were broken into on the same night.\n",
    "\n",
    "Given an integer array nums representing the amount of money of each house, return the maximum amount of money you can rob tonight without alerting the police.\n",
    "\n",
    "```\n",
    "Example 1:\n",
    "Input: nums = [1,2,3,1]\n",
    "Output: 4\n",
    "Explanation: Rob house 1 (money = 1) and then rob house 3 (money = 3).\n",
    "Total amount you can rob = 1 + 3 = 4.\n",
    "```\n",
    "\n",
    "```\n",
    "Example 2:\n",
    "Input: nums = [2,7,9,3,1]\n",
    "Output: 12\n",
    "Explanation: Rob house 1 (money = 2), rob house 3 (money = 9) and rob house 5 (money = 1).\n",
    "Total amount you can rob = 2 + 9 + 1 = 12.\n",
    "```\n",
    "\n",
    "Constraints:\n",
    "\n",
    "- 1 <= nums.length <= 100\n",
    "- 0 <= nums[i] <= 400\n",
    "\n",
    "## Solution"
   ]
  },
  {
   "cell_type": "code",
   "execution_count": null,
   "metadata": {},
   "outputs": [],
   "source": [
    "class Solution(object):\n",
    "    def rob(self, nums):\n",
    "        \"\"\"\n",
    "        :type nums: List[int]\n",
    "        :rtype: int\n",
    "        \"\"\"\n",
    "        # Dynamic Programming is used here to do nested calculation\n",
    "        # Define memoization\n",
    "        cache = {}\n",
    "        \n",
    "        # Set first index (#0) of cache with zero\n",
    "        cache[0] = 0\n",
    "        \n",
    "        # Set second index (#1) of cache with first value in nums\n",
    "        cache[1] = nums[0]\n",
    "        \n",
    "        # Iterate nums and put the max values in the last index of cache\n",
    "        for idx in range(1, len(nums)):\n",
    "            \n",
    "            # Set next index of cache with max values between\n",
    "            # 1. value in current index of cache\n",
    "            # 2. sum of value in previous index of cache and value in current index of nums\n",
    "            cache[idx+1] = max(cache[idx], cache[idx-1] + nums[idx])\n",
    "            \n",
    "        # Return value in the last index of cache\n",
    "        return cache[len(cache)-1]"
   ]
  }
 ],
 "metadata": {
  "kernelspec": {
   "display_name": "Python 3.8.3 32-bit",
   "language": "python",
   "name": "python38332bit19a78f05c6cb434680bc6f0964f662fa"
  },
  "language_info": {
   "codemirror_mode": {
    "name": "ipython",
    "version": 3
   },
   "file_extension": ".py",
   "mimetype": "text/x-python",
   "name": "python",
   "nbconvert_exporter": "python",
   "pygments_lexer": "ipython3",
   "version": "3.8.3"
  }
 },
 "nbformat": 4,
 "nbformat_minor": 4
}
