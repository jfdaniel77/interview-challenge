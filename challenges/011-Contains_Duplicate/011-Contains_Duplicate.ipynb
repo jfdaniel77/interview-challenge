{
 "cells": [
  {
   "cell_type": "markdown",
   "metadata": {},
   "source": [
    "# Challenge 011 - Contains Duplicate\n",
    "This challenge is taken from LeetCode - 217. Contains Duplicate (https://leetcode.com/problems/contains-duplicate/).\n",
    "\n",
    "## Problem\n",
    "Given an integer array nums, return true if any value appears at least twice in the array, and return false if every element is distinct. \n",
    "\n",
    "Example 1:\n",
    "```\n",
    "Input: nums = [1,2,3,1]\n",
    "Output: true\n",
    "```\n",
    "\n",
    "Example 2:\n",
    "```\n",
    "Input: nums = [1,2,3,4]\n",
    "Output: false\n",
    "```\n",
    "\n",
    "Example 3:\n",
    "```\n",
    "Input: nums = [1,1,1,3,3,4,3,2,4,2]\n",
    "Output: true\n",
    "```\n",
    "\n",
    "Constraints:\n",
    "```\n",
    "1 <= nums.length <= 105\n",
    "-109 <= nums[i] <= 109\n",
    "```\n",
    "\n",
    "## Solution\n",
    "\n",
    "> You can try to use ```input-011.txt``` to test your script. This script is used by LeetCode and you will pass if you can process it within limited time period. You can try if you can finish it within 10 seconds."
   ]
  },
  {
   "cell_type": "code",
   "execution_count": null,
   "metadata": {},
   "outputs": [],
   "source": [
    "class Solution(object):\n",
    "    def containsDuplicate(self, nums):\n",
    "        \"\"\"\n",
    "        :type nums: List[int]\n",
    "        :rtype: bool\n",
    "        \"\"\"        \n",
    "        set_nums = []\n",
    "        for item in nums:\n",
    "            if item in set_nums:\n",
    "                return True\n",
    "            else:\n",
    "                set_nums.append(item)\n",
    "        return False"
   ]
  }
 ],
 "metadata": {
  "kernelspec": {
   "display_name": "Python 3.8.3 32-bit",
   "language": "python",
   "name": "python38332bit19a78f05c6cb434680bc6f0964f662fa"
  },
  "language_info": {
   "codemirror_mode": {
    "name": "ipython",
    "version": 3
   },
   "file_extension": ".py",
   "mimetype": "text/x-python",
   "name": "python",
   "nbconvert_exporter": "python",
   "pygments_lexer": "ipython3",
   "version": "3.8.3"
  }
 },
 "nbformat": 4,
 "nbformat_minor": 4
}
