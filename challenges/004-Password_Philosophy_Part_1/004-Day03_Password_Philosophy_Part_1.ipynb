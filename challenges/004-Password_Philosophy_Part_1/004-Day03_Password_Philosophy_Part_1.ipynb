{
 "cells": [
  {
   "cell_type": "markdown",
   "metadata": {},
   "source": [
    "## Challenge 003 - Password Philosophy Part 1\n",
    "\n",
    "This challenge is taken from Advent of Code 2020 - Day 1 - Password Philosophy Part 1 (https://adventofcode.com/2020/day/2).\n",
    "\n",
    "## Problem\n",
    "Your flight departs in a few days from the coastal airport; the easiest way down to the coast from here is via toboggan.\n",
    "\n",
    "The shopkeeper at the North Pole Toboggan Rental Shop is having a bad day. \"Something's wrong with our computers; we can't log in!\" You ask if you can take a look.\n",
    "\n",
    "Their password database seems to be a little corrupted: some of the passwords wouldn't have been allowed by the Official Toboggan Corporate Policy that was in effect when they were chosen.\n",
    "\n",
    "To try to debug the problem, they have created a list (your puzzle input) of passwords (according to the corrupted database) and the corporate policy when that password was set.\n",
    "\n",
    "For example, suppose you have the following list:\n",
    "\n",
    "- 1-3 a: abcde\n",
    "- 1-3 b: cdefg\n",
    "- 2-9 c: ccccccccc\n",
    "Each line gives the password policy and then the password. The password policy indicates the lowest and highest number of times a given letter must appear for the password to be valid. For example, 1-3 a means that the password must contain a at least 1 time and at most 3 times.\n",
    "\n",
    "In the above example, 2 passwords are valid. The middle password, cdefg, is not; it contains no instances of b, but needs at least 1. The first and third passwords are valid: they contain one a or nine c, both within the limits of their respective policies.\n",
    "\n",
    "How many passwords are valid according to their policies?\n",
    "\n",
    "## Solution\n",
    "\n",
    "> To run this script, you need to save ```input-day-03.txt``` and run it in your local machine.\n"
   ]
  },
  {
   "cell_type": "code",
   "execution_count": null,
   "metadata": {},
   "outputs": [],
   "source": [
    "list_pwd = []\n",
    "count = 0\n",
    "\n",
    "with open (\"input-day-03.txt\", \"r\") as file:\n",
    "    list_pwd = file.read().splitlines() \n",
    "    \n",
    "for item in list_pwd:\n",
    "    # Split val based on space delimiter\n",
    "    val = item.split(\" \")\n",
    "    \n",
    "    # Get character to be checked\n",
    "    character = val[1][0]\n",
    "    \n",
    "    # Get pwd\n",
    "    pwd = val[2]\n",
    "\n",
    "    # Count number of character in pwd based on character\n",
    "    num_char = pwd.count(character)\n",
    "    \n",
    "    if num_char == 0:\n",
    "        continue\n",
    "    else:\n",
    "        frequency = val[0].split(\"-\")\n",
    "        low_frequency = frequency[0]\n",
    "        high_frequency = frequency[1]\n",
    "\n",
    "        # Check if number of character is between low and high frequency inclusive\n",
    "        if num_char >= int(low_frequency) and num_char <= int(high_frequency):\n",
    "            count = count + 1\n",
    "    \n",
    "print(\"Count = {}\".format(count))"
   ]
  }
 ],
 "metadata": {
  "kernelspec": {
   "display_name": "Python 3.8.3 32-bit",
   "language": "python",
   "name": "python38332bit19a78f05c6cb434680bc6f0964f662fa"
  },
  "language_info": {
   "codemirror_mode": {
    "name": "ipython",
    "version": 3
   },
   "file_extension": ".py",
   "mimetype": "text/x-python",
   "name": "python",
   "nbconvert_exporter": "python",
   "pygments_lexer": "ipython3",
   "version": "3.8.3"
  }
 },
 "nbformat": 4,
 "nbformat_minor": 4
}
