{
 "cells": [
  {
   "cell_type": "markdown",
   "metadata": {},
   "source": [
    "# Challenge 001 - Read CSV File\n",
    "\n",
    "This challenge is taken from test coding skills from Carto (https://carto.com/careers/).\n",
    "It is to solve \"Processing a large file with Python\".\n",
    "\n",
    "## Problem\n",
    "Build the following and make it run as fast as you possibly can using Python 3 (vanilla). The faster it runs, the more you will impress us!\n",
    "\n",
    "Your code should:\n",
    "\n",
    "- Download this ~2GB file: https://s3.amazonaws.com/carto-1000x/data/yellow_tripdata_2016-01.csv\n",
    "- Count the lines in the file\n",
    "- Calculate the average value of the tip_amount field.\n",
    "- All of that in the most efficient way you can come up with.\n",
    "\n",
    "That's it. Make it fly!\n",
    "\n",
    "(Source https://gist.github.com/jorgesancha/2a8027e5a89a2ea1693d63a45afdd8b6)\n",
    "\n",
    "## Solution"
   ]
  },
  {
   "cell_type": "markdown",
   "metadata": {},
   "source": [
    "> NOTE: I downloaded the CSV file beforehand and stored it in local machine. So, time to download is not included. If you want to try it in your own machine, please follow what I did and replace the file name in this code."
   ]
  },
  {
   "cell_type": "markdown",
   "metadata": {},
   "source": [
    "### Using Pandas"
   ]
  },
  {
   "cell_type": "code",
   "execution_count": null,
   "metadata": {},
   "outputs": [],
   "source": [
    "import pandas as pd\n",
    "from datetime import datetime\n",
    "\n",
    "start = datetime.now() \n",
    "\n",
    "# Read CSV file and store records into Pandas dataframe\n",
    "df = pd.read_csv(\"Test.csv\")\n",
    "\n",
    "# Get number of rows\n",
    "rows = df.shape[0]\n",
    "\n",
    "# Calculate average for \"tip_amount\" field\n",
    "average = df[\"tip_amount\"].mean()\n",
    "end = datetime.now() \n",
    "elapsed = end - start\n",
    "\n",
    "print(\"Number of line in file: {}\".format(rows))\n",
    "print(\"Average: {}\".format(average))\n",
    "print(\"Time : {}\".format(elapsed.total_seconds()))"
   ]
  },
  {
   "cell_type": "markdown",
   "metadata": {},
   "source": [
    "### Using Python (vannila)"
   ]
  },
  {
   "cell_type": "code",
   "execution_count": null,
   "metadata": {},
   "outputs": [],
   "source": [
    "start = datetime.now()     \n",
    "data = None\n",
    "with open (\"Test.csv\", \"r\", encoding='utf-8') as file:\n",
    "    # Enumerate records in CSV File\n",
    "    data = enumerate(file)\n",
    "    \n",
    "    # Get first row which is the header\n",
    "    index, header = next(data)\n",
    "    \n",
    "    # Get index value for \"tip_amount\" field\n",
    "    field_index = header.split(\",\").index('tip_amount')\n",
    "    count = 0\n",
    "    \n",
    "    # Iterate records and get value of \"tip_amount\"\n",
    "    for i, line in data:\n",
    "        count += float(line.split(\",\")[field_index])\n",
    "\n",
    "    # Calculate average\n",
    "    average = count/i\n",
    "    end = datetime.now() \n",
    "    elapsed = end - start\n",
    "\n",
    "    print(\"Number of line in file: {}\".format(i))\n",
    "    print(\"Average: {}\".format(average))\n",
    "    print(\"Time : {}\".format(elapsed.total_seconds()))"
   ]
  }
 ],
 "metadata": {
  "kernelspec": {
   "display_name": "Python 3",
   "language": "python",
   "name": "python3"
  },
  "language_info": {
   "codemirror_mode": {
    "name": "ipython",
    "version": 3
   },
   "file_extension": ".py",
   "mimetype": "text/x-python",
   "name": "python",
   "nbconvert_exporter": "python",
   "pygments_lexer": "ipython3",
   "version": "3.7.7"
  }
 },
 "nbformat": 4,
 "nbformat_minor": 4
}
