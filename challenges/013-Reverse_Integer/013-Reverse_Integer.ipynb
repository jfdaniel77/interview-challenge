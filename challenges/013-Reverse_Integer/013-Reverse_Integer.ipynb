{
 "cells": [
  {
   "cell_type": "markdown",
   "metadata": {},
   "source": [
    "# Challenge 013 - Reverse Integer\n",
    "This challenge is taken from LeetCode - 7. Reverse Integer (https://leetcode.com/problems/reverse-integer/).\n",
    "\n",
    "## Problem\n",
    "Given a signed 32-bit integer x, return x with its digits reversed. If reversing x causes the value to go outside the signed 32-bit integer range [-2<sup>31</sup>, 2<sup>31</sup> - 1], then return 0.\n",
    "\n",
    "Assume the environment does not allow you to store 64-bit integers (signed or unsigned). \n",
    "\n",
    "Example 1:\n",
    "```\n",
    "Input: x = 123\n",
    "Output: 321\n",
    "```\n",
    "\n",
    "Example 2:\n",
    "```\n",
    "Input: x = -123\n",
    "Output: -321\n",
    "```\n",
    "\n",
    "Example 3:\n",
    "```\n",
    "Input: x = 120\n",
    "Output: 21\n",
    "```\n",
    "\n",
    "Example 4:\n",
    "```\n",
    "Input: x = 0\n",
    "Output: 0\n",
    "``` \n",
    "\n",
    "Constraints:\n",
    "\n",
    "-2<sup>31</sup> <= x <= 2<sup>31</sup> - 1\n",
    "\n",
    "## Solution"
   ]
  },
  {
   "cell_type": "code",
   "execution_count": null,
   "metadata": {},
   "outputs": [],
   "source": [
    "class Solution(object):\n",
    "    def reverse(self, x):\n",
    "        \"\"\"\n",
    "        :type x: int\n",
    "        :rtype: int\n",
    "        \"\"\"\n",
    "        result = 0\n",
    "        \n",
    "        # Check if x is negative value\n",
    "        # If yes, make it positive and set the flag\n",
    "        is_negative = False\n",
    "        \n",
    "        if x < 0:\n",
    "            x = 0 - x\n",
    "            is_negative = True\n",
    "            \n",
    "        # Main logic to reverse the number\n",
    "        while (x > 0):\n",
    "            result =  (result * 10) + (x % 10)\n",
    "            x = x/10\n",
    "            \n",
    "        # If the negative flat is set, we make the final result as negative value\n",
    "        if is_negative:\n",
    "            result = 0 - result\n",
    "            \n",
    "        # Check if the result beyond the signed 32-bit integer range\n",
    "        if result > 2147483647 or result < -2147483648:\n",
    "            result = 0\n",
    "            \n",
    "        return result"
   ]
  }
 ],
 "metadata": {
  "kernelspec": {
   "display_name": "Python 3.8.3 32-bit",
   "language": "python",
   "name": "python38332bit19a78f05c6cb434680bc6f0964f662fa"
  },
  "language_info": {
   "codemirror_mode": {
    "name": "ipython",
    "version": 3
   },
   "file_extension": ".py",
   "mimetype": "text/x-python",
   "name": "python",
   "nbconvert_exporter": "python",
   "pygments_lexer": "ipython3",
   "version": "3.8.3"
  }
 },
 "nbformat": 4,
 "nbformat_minor": 4
}
