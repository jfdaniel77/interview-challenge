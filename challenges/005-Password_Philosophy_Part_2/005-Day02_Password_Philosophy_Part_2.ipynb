{
 "cells": [
  {
   "cell_type": "markdown",
   "metadata": {},
   "source": [
    "## Challenge 005 - Password Philosophy Part 2\n",
    "\n",
    "This challenge is taken from Advent of Code 2020 - Day 2 - Password Philosophy Part 2 (https://adventofcode.com/2020/day/2).\n",
    "\n",
    "## Problem\n",
    "While it appears you validated the passwords correctly, they don't seem to be what the Official Toboggan Corporate Authentication System is expecting.\n",
    "\n",
    "The shopkeeper suddenly realizes that he just accidentally explained the password policy rules from his old job at the sled rental place down the street! The Official Toboggan Corporate Policy actually works a little differently.\n",
    "\n",
    "Each policy actually describes two positions in the password, where 1 means the first character, 2 means the second character, and so on. (Be careful; Toboggan Corporate Policies have no concept of \"index zero\"!) Exactly one of these positions must contain the given letter. Other occurrences of the letter are irrelevant for the purposes of policy enforcement.\n",
    "\n",
    "Given the same example list from above:\n",
    "\n",
    "- 1-3 a: abcde is valid: position 1 contains a and position 3 does not.\n",
    "- 1-3 b: cdefg is invalid: neither position 1 nor position 3 contains b.\n",
    "- 2-9 c: ccccccccc is invalid: both position 2 and position 9 contain c.\n",
    "\n",
    "How many passwords are valid according to the new interpretation of the policies?\n",
    "\n",
    "## Solution\n",
    "\n",
    "> This is continuity of previous challenge, https://github.com/jfdaniel77/interview-challenge/blob/main/challenges/004-Password_Philosophy_Part_1/004-Day03_Password_Philosophy_Part_1.ipynb\n",
    "\n",
    "> To run this script, you need to save ```input-day-03.txt``` and run it in your local machine.\n"
   ]
  },
  {
   "cell_type": "code",
   "execution_count": null,
   "metadata": {},
   "outputs": [],
   "source": [
    "list_pwd = []\n",
    "count = 0\n",
    "\n",
    "with open (\"input-day-03.txt\", \"r\") as file:\n",
    "    list_pwd = file.read().splitlines() \n",
    "    \n",
    "for item in list_pwd:\n",
    "    # Split val based on space delimiter\n",
    "    val = item.split(\" \")\n",
    "    \n",
    "    # Get character to be checked\n",
    "    character = val[1][0]\n",
    "    \n",
    "    # Get pwd\n",
    "    pwd = val[2]\n",
    "    \n",
    "    # Get index position\n",
    "    frequency = val[0].split(\"-\")\n",
    "    first_idx = int(frequency[0]) - 1\n",
    "    second_idx = int(frequency[1]) - 1\n",
    "\n",
    "    # Count number of character in pwd based on character\n",
    "    num_char = pwd.count(character)\n",
    "    \n",
    "    if num_char == 0:\n",
    "        \n",
    "        continue\n",
    "    else:\n",
    "        # Check if number of character is between low and high frequency inclusive\n",
    "        if pwd[first_idx] == character and pwd[second_idx] == character:\n",
    "            continue\n",
    "        elif pwd[first_idx] == character or pwd[second_idx] == character:\n",
    "            count = count + 1\n",
    "        \n",
    "    \n",
    "print(\"Count = {}\".format(count))"
   ]
  }
 ],
 "metadata": {
  "kernelspec": {
   "display_name": "Python 3.8.3 32-bit",
   "language": "python",
   "name": "python38332bit19a78f05c6cb434680bc6f0964f662fa"
  },
  "language_info": {
   "codemirror_mode": {
    "name": "ipython",
    "version": 3
   },
   "file_extension": ".py",
   "mimetype": "text/x-python",
   "name": "python",
   "nbconvert_exporter": "python",
   "pygments_lexer": "ipython3",
   "version": "3.8.3"
  }
 },
 "nbformat": 4,
 "nbformat_minor": 4
}
